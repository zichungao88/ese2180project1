{
 "cells": [
  {
   "cell_type": "markdown",
   "metadata": {},
   "source": [
    "## Problem Description\n",
    "Consider a 5x5 grid. Write a system of equations $Ax=b$ to solve for the node voltages. Provide your answer in the form $A_{ij} = \\ast$, $i=1,\\ldots,25$, $j=1,\\ldots,25$, $b_{i} = \\ast$, $i=1,\\ldots,25$."
   ]
  },
  {
   "cell_type": "markdown",
   "metadata": {},
   "source": [
    "\n",
    "Write a function that reads in a file to obtain the resistances on each link. The file will contain one line for each link of the form: `NODE1, NODE2, RESISTANCE`. For example, if there is a resistance of $5$ between nodes 2 and 3, then the corresponding line would be\n",
    "| Node1 | Node2 | Resistance |\n",
    "|-------|-------|------------|\n",
    "|   2   |   3   |     5      |"
   ]
  },
  {
   "cell_type": "code",
   "execution_count": 1,
   "metadata": {},
   "outputs": [],
   "source": [
    "import json\n",
    "\n",
    "def read_resistances_json(file_name):\n",
    "    resistances = {}\n",
    "    with open(file_name, 'r') as f:\n",
    "        data = json.load(f)\n",
    "        for entry in data:\n",
    "            node1 = entry[\"node1\"]\n",
    "            node2 = entry[\"node2\"]\n",
    "            resistance = entry[\"resistance\"]\n",
    "            resistances[(node1, node2)] = resistance\n",
    "    return resistances"
   ]
  },
  {
   "cell_type": "code",
   "execution_count": 2,
   "metadata": {},
   "outputs": [
    {
     "name": "stdout",
     "output_type": "stream",
     "text": [
      "{(1, 2): 2.0, (1, 6): 3.0, (2, 3): 2.5, (2, 7): 3.5, (3, 4): 3.0, (3, 8): 4.0, (4, 5): 2.5, (4, 9): 3.0, (5, 10): 3.5, (6, 7): 4.0, (6, 11): 2.0, (7, 8): 2.5, (7, 12): 3.5, (8, 9): 3.0, (8, 13): 4.0, (9, 10): 2.5, (9, 14): 3.0, (10, 15): 3.5, (11, 12): 4.0, (11, 16): 2.0, (12, 13): 2.5, (12, 17): 3.5, (13, 14): 3.0, (13, 18): 4.0, (14, 15): 2.5, (14, 19): 3.0, (15, 20): 3.5, (16, 17): 4.0, (16, 21): 2.0, (17, 18): 2.5, (17, 22): 3.5, (18, 19): 3.0, (18, 23): 4.0, (19, 20): 2.5, (19, 24): 3.0, (20, 25): 3.5, (21, 22): 4.0, (22, 23): 2.5, (23, 24): 3.5, (24, 25): 3.0}\n"
     ]
    }
   ],
   "source": [
    "resistances = read_resistances_json('node_resistances.json')\n",
    "print(resistances)"
   ]
  },
  {
   "cell_type": "markdown",
   "metadata": {},
   "source": [
    "Write a function that reads in a file to obtain the set of voltages that are at fixed points. For example, if the voltage at node 3 is equal to 6.2, the corresponding line would be\n",
    "| Node | Voltage |\n",
    "|------|---------|\n",
    "|   3  |   6.2   |"
   ]
  },
  {
   "cell_type": "code",
   "execution_count": 3,
   "metadata": {},
   "outputs": [],
   "source": [
    "import json\n",
    "\n",
    "def read_fixed_voltages_json(file_name):\n",
    "    fixed_voltages = {}\n",
    "    with open(file_name, 'r') as f:\n",
    "        data = json.load(f)\n",
    "        for entry in data:\n",
    "            node = entry[\"node\"]\n",
    "            voltage = entry[\"voltage\"]\n",
    "            fixed_voltages[node] = voltage\n",
    "    return fixed_voltages"
   ]
  },
  {
   "cell_type": "code",
   "execution_count": 4,
   "metadata": {},
   "outputs": [
    {
     "name": "stdout",
     "output_type": "stream",
     "text": [
      "{1: 10.0, 25: 0.0}\n"
     ]
    }
   ],
   "source": [
    "fixed_voltages = read_fixed_voltages_json('node_voltages.json')\n",
    "print(fixed_voltages)"
   ]
  },
  {
   "cell_type": "markdown",
   "metadata": {},
   "source": [
    "1. Compute the A matrix using the data read in by the previous two files\n",
    "\n",
    "The A matrix represents the system of equations derived from Kirchhoff’s Current Law (KCL) applied to each node in the grid. We will account for the resistances between nodes and fixed voltages. "
   ]
  },
  {
   "cell_type": "code",
   "execution_count": 5,
   "metadata": {},
   "outputs": [],
   "source": [
    "# Insert a code cell and implement your code here"
   ]
  },
  {
   "cell_type": "markdown",
   "metadata": {},
   "source": [
    "2. Compute the LU factorization of the matrix.\n"
   ]
  },
  {
   "cell_type": "markdown",
   "metadata": {},
   "source": [
    "3. Compute and output the node voltages and the currents through each link.\n"
   ]
  },
  {
   "cell_type": "markdown",
   "metadata": {},
   "source": [
    "4. Write the output of the previous three steps to a file.\n"
   ]
  },
  {
   "cell_type": "markdown",
   "metadata": {},
   "source": [
    "5. Repeat the above but with a tree network (draw graph). Comment on the relative difficulty of solving for a tree as opposed to a grid."
   ]
  }
 ],
 "metadata": {
  "kernelspec": {
   "display_name": "Python 3 (ipykernel)",
   "language": "python",
   "name": "python3"
  },
  "language_info": {
   "codemirror_mode": {
    "name": "ipython",
    "version": 3
   },
   "file_extension": ".py",
   "mimetype": "text/x-python",
   "name": "python",
   "nbconvert_exporter": "python",
   "pygments_lexer": "ipython3",
   "version": "3.12.1"
  }
 },
 "nbformat": 4,
 "nbformat_minor": 4
}
